{
 "cells": [
  {
   "cell_type": "code",
   "execution_count": null,
   "metadata": {},
   "outputs": [],
   "source": [
    "# example of ARCH model\n",
    "from random import gauss\n",
    "from random import seed\n",
    "from matplotlib import pyplot\n",
    "from arch import arch_model\n",
    "\n",
    "# seed pseudorandom number generator\n",
    "seed(1)\n",
    "\n",
    "# create dataset\n",
    "data = [gauss(0, i*0.01) for i in range(0,100)]\n",
    "\n",
    "# split into train/test\n",
    "n_test = 10\n",
    "train, test = data[:-n_test], data[-n_test:]\n",
    "\n",
    "# define model\n",
    "model = arch_model(train, mean='Zero', vol='ARCH', p=15)\n",
    "\n",
    "# fit model\n",
    "model_fit = model.fit()\n",
    "\n",
    "# forecast the test set\n",
    "yhat = model_fit.forecast(horizon=n_test)\n",
    "\n",
    "# plot the actual variance\n",
    "var = [i*0.01 for i in range(0,100)]\n",
    "pyplot.plot(var[-n_test:])\n",
    "\n",
    "# plot forecast variance\n",
    "pyplot.plot(yhat.variance.values[-1, :])\n",
    "pyplot.show()"
   ]
  }
 ],
 "metadata": {
  "kernelspec": {
   "display_name": "Python 3",
   "language": "python",
   "name": "python3"
  },
  "language_info": {
   "codemirror_mode": {
    "name": "ipython",
    "version": 3
   },
   "file_extension": ".py",
   "mimetype": "text/x-python",
   "name": "python",
   "nbconvert_exporter": "python",
   "pygments_lexer": "ipython3",
   "version": "3.7.1"
  }
 },
 "nbformat": 4,
 "nbformat_minor": 2
}
