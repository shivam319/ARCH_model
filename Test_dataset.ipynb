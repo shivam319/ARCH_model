{
 "cells": [
  {
   "cell_type": "code",
   "execution_count": null,
   "metadata": {},
   "outputs": [],
   "source": [
    "# create dataset\n",
    "\n",
    "# create a simple white noise with increasing variance\n",
    "\n",
    "\n",
    "\n",
    "from random import gauss\n",
    "\n",
    "from random import seed\n",
    "\n",
    "from matplotlib import pyplot\n",
    "\n",
    "\n",
    "\n",
    "# seed pseudorandom number generator\n",
    "\n",
    "seed(1)\n",
    "\n",
    "\n",
    "\n",
    "# create dataset\n",
    "\n",
    "data = [gauss(0, i*0.01) for i in range(0,100)]\n",
    "\n",
    "\n",
    "\n",
    "# plot\n",
    "\n",
    "pyplot.plot(data)\n",
    "\n",
    "pyplot.show()"
   ]
  }
 ],
 "metadata": {
  "kernelspec": {
   "display_name": "Python 3",
   "language": "python",
   "name": "python3"
  },
  "language_info": {
   "codemirror_mode": {
    "name": "ipython",
    "version": 3
   },
   "file_extension": ".py",
   "mimetype": "text/x-python",
   "name": "python",
   "nbconvert_exporter": "python",
   "pygments_lexer": "ipython3",
   "version": "3.7.1"
  }
 },
 "nbformat": 4,
 "nbformat_minor": 2
}
