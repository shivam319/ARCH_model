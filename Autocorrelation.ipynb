{
 "cells": [
  {
   "cell_type": "code",
   "execution_count": null,
   "metadata": {},
   "outputs": [],
   "source": [
    "# check correlations of squared observations\n",
    "from random import gauss\n",
    "from random import seed\n",
    "from matplotlib import pyplot\n",
    "from statsmodels.graphics.tsaplots import plot_acf\n",
    "\n",
    "# seed pseudorandom number generator\n",
    "seed(1)\n",
    "\n",
    "# create dataset\n",
    "data = [gauss(0, i*0.01) for i in range(0,100)]\n",
    "\n",
    "# square the dataset\n",
    "squared_data = [x**2 for x in data]\n",
    "\n",
    "# create acf plot\n",
    "plot_acf(squared_data)\n",
    "pyplot.show()"
   ]
  }
 ],
 "metadata": {
  "kernelspec": {
   "display_name": "Python 3",
   "language": "python",
   "name": "python3"
  },
  "language_info": {
   "codemirror_mode": {
    "name": "ipython",
    "version": 3
   },
   "file_extension": ".py",
   "mimetype": "text/x-python",
   "name": "python",
   "nbconvert_exporter": "python",
   "pygments_lexer": "ipython3",
   "version": "3.7.1"
  }
 },
 "nbformat": 4,
 "nbformat_minor": 2
}
